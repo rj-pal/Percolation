{
  "cells": [
    {
      "cell_type": "markdown",
      "metadata": {
        "id": "view-in-github",
        "colab_type": "text"
      },
      "source": [
        "<a href=\"https://colab.research.google.com/github/rj-pal/Percolation/blob/main/Percolation_comparison_tests.ipynb\" target=\"_parent\"><img src=\"https://colab.research.google.com/assets/colab-badge.svg\" alt=\"Open In Colab\"/></a>"
      ]
    },
    {
      "cell_type": "markdown",
      "metadata": {
        "id": "143f0bcf-2197-49d8-8132-afa1df83cab8"
      },
      "source": [
        "# Percolation Test Results"
      ],
      "id": "143f0bcf-2197-49d8-8132-afa1df83cab8"
    },
    {
      "cell_type": "code",
      "execution_count": 1,
      "metadata": {
        "colab": {
          "base_uri": "https://localhost:8080/"
        },
        "id": "8JyLbyas0Npk",
        "outputId": "03f2ef91-a0aa-4682-970b-3508459ff7f9"
      },
      "outputs": [
        {
          "output_type": "stream",
          "name": "stdout",
          "text": [
            "Mounted at /content/drive\n"
          ]
        }
      ],
      "source": [
        "from google.colab import drive\n",
        "drive.mount('/content/drive')"
      ],
      "id": "8JyLbyas0Npk"
    },
    {
      "cell_type": "code",
      "execution_count": 2,
      "metadata": {
        "colab": {
          "base_uri": "https://localhost:8080/"
        },
        "id": "0KuIQgV_01Qt",
        "outputId": "c25d9d32-b1e6-4e2d-b17d-a504168c12bb"
      },
      "outputs": [
        {
          "output_type": "stream",
          "name": "stdout",
          "text": [
            "Sun Jun 19 02:49:35 2022       \n",
            "+-----------------------------------------------------------------------------+\n",
            "| NVIDIA-SMI 460.32.03    Driver Version: 460.32.03    CUDA Version: 11.2     |\n",
            "|-------------------------------+----------------------+----------------------+\n",
            "| GPU  Name        Persistence-M| Bus-Id        Disp.A | Volatile Uncorr. ECC |\n",
            "| Fan  Temp  Perf  Pwr:Usage/Cap|         Memory-Usage | GPU-Util  Compute M. |\n",
            "|                               |                      |               MIG M. |\n",
            "|===============================+======================+======================|\n",
            "|   0  Tesla T4            Off  | 00000000:00:04.0 Off |                    0 |\n",
            "| N/A   37C    P8     9W /  70W |      0MiB / 15109MiB |      0%      Default |\n",
            "|                               |                      |                  N/A |\n",
            "+-------------------------------+----------------------+----------------------+\n",
            "                                                                               \n",
            "+-----------------------------------------------------------------------------+\n",
            "| Processes:                                                                  |\n",
            "|  GPU   GI   CI        PID   Type   Process name                  GPU Memory |\n",
            "|        ID   ID                                                   Usage      |\n",
            "|=============================================================================|\n",
            "|  No running processes found                                                 |\n",
            "+-----------------------------------------------------------------------------+\n"
          ]
        }
      ],
      "source": [
        "# Check GPU connection\n",
        "gpu_info = !nvidia-smi\n",
        "gpu_info = '\\n'.join(gpu_info)\n",
        "if gpu_info.find('failed') >= 0:\n",
        "  print('Not connected to a GPU')\n",
        "else:\n",
        "  print(gpu_info)"
      ],
      "id": "0KuIQgV_01Qt"
    },
    {
      "cell_type": "code",
      "source": [
        "from psutil import virtual_memory\n",
        "ram_gb = virtual_memory().total / 1e9\n",
        "print('Your runtime has {:.1f} gigabytes of available RAM\\n'.format(ram_gb))\n",
        "\n",
        "if ram_gb < 20:\n",
        "  print('Not using a high-RAM runtime')\n",
        "else:\n",
        "  print('You are using a high-RAM runtime!')"
      ],
      "metadata": {
        "colab": {
          "base_uri": "https://localhost:8080/"
        },
        "id": "eW81AB1vcCaC",
        "outputId": "f7765c77-b16a-4f06-fd68-60e34d72c4e2"
      },
      "id": "eW81AB1vcCaC",
      "execution_count": 3,
      "outputs": [
        {
          "output_type": "stream",
          "name": "stdout",
          "text": [
            "Your runtime has 27.3 gigabytes of available RAM\n",
            "\n",
            "You are using a high-RAM runtime!\n"
          ]
        }
      ]
    },
    {
      "cell_type": "code",
      "execution_count": 4,
      "metadata": {
        "id": "tCjYH9uv0wJn"
      },
      "outputs": [],
      "source": [
        "import sys\n",
        "sys.path.append('drive/MyDrive/modules')"
      ],
      "id": "tCjYH9uv0wJn"
    },
    {
      "cell_type": "code",
      "execution_count": 5,
      "metadata": {
        "colab": {
          "base_uri": "https://localhost:8080/"
        },
        "id": "feUK_nqg108X",
        "outputId": "16d2ee6b-f197-4605-c8a6-628103a2f9fc"
      },
      "outputs": [
        {
          "output_type": "stream",
          "name": "stdout",
          "text": [
            "Looking in indexes: https://pypi.org/simple, https://us-python.pkg.dev/colab-wheels/public/simple/\n",
            "Collecting colorama\n",
            "  Downloading colorama-0.4.5-py2.py3-none-any.whl (16 kB)\n",
            "Installing collected packages: colorama\n",
            "Successfully installed colorama-0.4.5\n"
          ]
        }
      ],
      "source": [
        "# To meet the requirements of the Percolation Visualization Class- not used here\n",
        "\n",
        "!pip install colorama"
      ],
      "id": "feUK_nqg108X"
    },
    {
      "cell_type": "code",
      "execution_count": 6,
      "metadata": {
        "id": "70e12c85-ead6-4323-81bf-5c21ae366db2"
      },
      "outputs": [],
      "source": [
        "from Percolation import *\n",
        "import matplotlib.pyplot as plt"
      ],
      "id": "70e12c85-ead6-4323-81bf-5c21ae366db2"
    },
    {
      "cell_type": "code",
      "execution_count": 7,
      "metadata": {
        "id": "e4c0183e-b081-48b4-8a60-afca9f3cc8aa",
        "colab": {
          "base_uri": "https://localhost:8080/"
        },
        "outputId": "01bc7212-d88a-4e47-e21a-b58f701f4a7d"
      },
      "outputs": [
        {
          "output_type": "stream",
          "name": "stdout",
          "text": [
            "Tests for network size: 4\n",
            "__________________________\n",
            "Percolation Threshold Average: 60.5%\n",
            "Board Size: 4\n",
            "Iterations: 100\n",
            "Algorithm: PathCompression\n",
            "monte_carlo_percolation_test: Elapsed time of 0.011766433715820312 s\n",
            "\n",
            "Percolation Threshold Average: 60.5%\n",
            "Board Size: 4\n",
            "Iterations: 100\n",
            "Algorithm: WeightedQuickUnion\n",
            "monte_carlo_percolation_test: Elapsed time of 0.012960672378540039 s\n",
            "\n",
            "Percolation Threshold Average: 60.5%\n",
            "Board Size: 4\n",
            "Iterations: 100\n",
            "Algorithm: QuickUnion\n",
            "monte_carlo_percolation_test: Elapsed time of 0.00998234748840332 s\n",
            "\n",
            "Percolation Threshold Average: 60.5%\n",
            "Board Size: 4\n",
            "Iterations: 100\n",
            "Algorithm: QuickFind\n",
            "monte_carlo_percolation_test: Elapsed time of 0.013758182525634766 s\n",
            "\n",
            "Tests for network size: 9\n",
            "__________________________\n",
            "Percolation Threshold Average: 59.5553%\n",
            "Board Size: 9\n",
            "Iterations: 100\n",
            "Algorithm: PathCompression\n",
            "monte_carlo_percolation_test: Elapsed time of 0.06012320518493652 s\n",
            "\n",
            "Percolation Threshold Average: 59.5553%\n",
            "Board Size: 9\n",
            "Iterations: 100\n",
            "Algorithm: WeightedQuickUnion\n",
            "monte_carlo_percolation_test: Elapsed time of 0.05580425262451172 s\n",
            "\n",
            "Percolation Threshold Average: 59.5553%\n",
            "Board Size: 9\n",
            "Iterations: 100\n",
            "Algorithm: QuickUnion\n",
            "monte_carlo_percolation_test: Elapsed time of 0.055609941482543945 s\n",
            "\n",
            "Percolation Threshold Average: 59.5553%\n",
            "Board Size: 9\n",
            "Iterations: 100\n",
            "Algorithm: QuickFind\n",
            "monte_carlo_percolation_test: Elapsed time of 0.0680088996887207 s\n",
            "\n",
            "Tests for network size: 16\n",
            "__________________________\n",
            "Percolation Threshold Average: 59.078%\n",
            "Board Size: 16\n",
            "Iterations: 100\n",
            "Algorithm: PathCompression\n",
            "monte_carlo_percolation_test: Elapsed time of 0.2216649055480957 s\n",
            "\n",
            "Percolation Threshold Average: 59.078%\n",
            "Board Size: 16\n",
            "Iterations: 100\n",
            "Algorithm: WeightedQuickUnion\n",
            "monte_carlo_percolation_test: Elapsed time of 0.2108776569366455 s\n",
            "\n",
            "Percolation Threshold Average: 59.078%\n",
            "Board Size: 16\n",
            "Iterations: 100\n",
            "Algorithm: QuickUnion\n",
            "monte_carlo_percolation_test: Elapsed time of 0.20613336563110352 s\n",
            "\n",
            "Percolation Threshold Average: 59.078%\n",
            "Board Size: 16\n",
            "Iterations: 100\n",
            "Algorithm: QuickFind\n",
            "monte_carlo_percolation_test: Elapsed time of 0.4126169681549072 s\n",
            "\n",
            "Tests for network size: 25\n",
            "__________________________\n",
            "Percolation Threshold Average: 59.4672%\n",
            "Board Size: 25\n",
            "Iterations: 100\n",
            "Algorithm: PathCompression\n",
            "monte_carlo_percolation_test: Elapsed time of 0.7488014698028564 s\n",
            "\n",
            "Percolation Threshold Average: 59.4672%\n",
            "Board Size: 25\n",
            "Iterations: 100\n",
            "Algorithm: WeightedQuickUnion\n",
            "monte_carlo_percolation_test: Elapsed time of 0.7414391040802002 s\n",
            "\n",
            "Percolation Threshold Average: 59.4672%\n",
            "Board Size: 25\n",
            "Iterations: 100\n",
            "Algorithm: QuickUnion\n",
            "monte_carlo_percolation_test: Elapsed time of 0.742335319519043 s\n",
            "\n",
            "Percolation Threshold Average: 59.4672%\n",
            "Board Size: 25\n",
            "Iterations: 100\n",
            "Algorithm: QuickFind\n",
            "monte_carlo_percolation_test: Elapsed time of 2.484341859817505 s\n",
            "\n",
            "Tests for network size: 36\n",
            "__________________________\n",
            "Percolation Threshold Average: 58.7181%\n",
            "Board Size: 36\n",
            "Iterations: 100\n",
            "Algorithm: PathCompression\n",
            "monte_carlo_percolation_test: Elapsed time of 2.534266948699951 s\n",
            "\n",
            "Percolation Threshold Average: 58.7181%\n",
            "Board Size: 36\n",
            "Iterations: 100\n",
            "Algorithm: WeightedQuickUnion\n",
            "monte_carlo_percolation_test: Elapsed time of 1.889343023300171 s\n",
            "\n",
            "Percolation Threshold Average: 58.7181%\n",
            "Board Size: 36\n",
            "Iterations: 100\n",
            "Algorithm: QuickUnion\n",
            "monte_carlo_percolation_test: Elapsed time of 1.9978573322296143 s\n",
            "\n",
            "Percolation Threshold Average: 58.7181%\n",
            "Board Size: 36\n",
            "Iterations: 100\n",
            "Algorithm: QuickFind\n",
            "monte_carlo_percolation_test: Elapsed time of 8.262658596038818 s\n",
            "\n",
            "Tests for network size: 49\n",
            "__________________________\n",
            "Percolation Threshold Average: 59.2573%\n",
            "Board Size: 49\n",
            "Iterations: 100\n",
            "Algorithm: PathCompression\n",
            "monte_carlo_percolation_test: Elapsed time of 4.4430131912231445 s\n",
            "\n",
            "Percolation Threshold Average: 59.2573%\n",
            "Board Size: 49\n",
            "Iterations: 100\n",
            "Algorithm: WeightedQuickUnion\n",
            "monte_carlo_percolation_test: Elapsed time of 4.4424707889556885 s\n",
            "\n",
            "Percolation Threshold Average: 59.2573%\n",
            "Board Size: 49\n",
            "Iterations: 100\n",
            "Algorithm: QuickUnion\n",
            "monte_carlo_percolation_test: Elapsed time of 4.843986511230469 s\n",
            "\n",
            "Percolation Threshold Average: 59.2573%\n",
            "Board Size: 49\n",
            "Iterations: 100\n",
            "Algorithm: QuickFind\n",
            "monte_carlo_percolation_test: Elapsed time of 27.930209398269653 s\n",
            "\n",
            "Tests for network size: 64\n",
            "__________________________\n",
            "Percolation Threshold Average: 59.41%\n",
            "Board Size: 64\n",
            "Iterations: 100\n",
            "Algorithm: PathCompression\n",
            "monte_carlo_percolation_test: Elapsed time of 9.40487813949585 s\n",
            "\n",
            "Percolation Threshold Average: 59.41%\n",
            "Board Size: 64\n",
            "Iterations: 100\n",
            "Algorithm: WeightedQuickUnion\n",
            "monte_carlo_percolation_test: Elapsed time of 9.326231002807617 s\n",
            "\n",
            "Percolation Threshold Average: 59.41%\n",
            "Board Size: 64\n",
            "Iterations: 100\n",
            "Algorithm: QuickUnion\n",
            "monte_carlo_percolation_test: Elapsed time of 10.217873334884644 s\n",
            "\n",
            "Percolation Threshold Average: 59.41%\n",
            "Board Size: 64\n",
            "Iterations: 100\n",
            "Algorithm: QuickFind\n",
            "monte_carlo_percolation_test: Elapsed time of 77.94254493713379 s\n",
            "\n",
            "Tests for network size: 81\n",
            "__________________________\n",
            "Percolation Threshold Average: 59.068%\n",
            "Board Size: 81\n",
            "Iterations: 100\n",
            "Algorithm: PathCompression\n",
            "monte_carlo_percolation_test: Elapsed time of 18.37173295021057 s\n",
            "\n",
            "Percolation Threshold Average: 59.068%\n",
            "Board Size: 81\n",
            "Iterations: 100\n",
            "Algorithm: WeightedQuickUnion\n",
            "monte_carlo_percolation_test: Elapsed time of 18.3082537651062 s\n",
            "\n",
            "Percolation Threshold Average: 59.068%\n",
            "Board Size: 81\n",
            "Iterations: 100\n",
            "Algorithm: QuickUnion\n",
            "monte_carlo_percolation_test: Elapsed time of 20.483287572860718 s\n",
            "\n",
            "Percolation Threshold Average: 59.068%\n",
            "Board Size: 81\n",
            "Iterations: 100\n",
            "Algorithm: QuickFind\n",
            "monte_carlo_percolation_test: Elapsed time of 195.36589241027832 s\n",
            "\n",
            "Tests for network size: 100\n",
            "__________________________\n",
            "Percolation Threshold Average: 59.3906%\n",
            "Board Size: 100\n",
            "Iterations: 100\n",
            "Algorithm: PathCompression\n",
            "monte_carlo_percolation_test: Elapsed time of 34.20287895202637 s\n",
            "\n",
            "Percolation Threshold Average: 59.3906%\n",
            "Board Size: 100\n",
            "Iterations: 100\n",
            "Algorithm: WeightedQuickUnion\n",
            "monte_carlo_percolation_test: Elapsed time of 34.30805969238281 s\n",
            "\n",
            "Percolation Threshold Average: 59.3906%\n",
            "Board Size: 100\n",
            "Iterations: 100\n",
            "Algorithm: QuickUnion\n",
            "monte_carlo_percolation_test: Elapsed time of 38.315428256988525 s\n",
            "\n",
            "Percolation Threshold Average: 59.3906%\n",
            "Board Size: 100\n",
            "Iterations: 100\n",
            "Algorithm: QuickFind\n",
            "monte_carlo_percolation_test: Elapsed time of 456.25806069374084 s\n",
            "\n",
            "Tests for network size: 121\n",
            "__________________________\n",
            "Percolation Threshold Average: 59.3287%\n",
            "Board Size: 121\n",
            "Iterations: 100\n",
            "Algorithm: PathCompression\n",
            "monte_carlo_percolation_test: Elapsed time of 59.28381943702698 s\n",
            "\n",
            "Percolation Threshold Average: 59.3287%\n",
            "Board Size: 121\n",
            "Iterations: 100\n",
            "Algorithm: WeightedQuickUnion\n",
            "monte_carlo_percolation_test: Elapsed time of 59.29460144042969 s\n",
            "\n",
            "Percolation Threshold Average: 59.3287%\n",
            "Board Size: 121\n",
            "Iterations: 100\n",
            "Algorithm: QuickUnion\n",
            "monte_carlo_percolation_test: Elapsed time of 66.95230388641357 s\n",
            "\n",
            "Percolation Threshold Average: 59.3287%\n",
            "Board Size: 121\n",
            "Iterations: 100\n",
            "Algorithm: QuickFind\n",
            "monte_carlo_percolation_test: Elapsed time of 989.8367259502411 s\n",
            "\n",
            "Tests for network size: 144\n",
            "__________________________\n",
            "Percolation Threshold Average: 59.2436%\n",
            "Board Size: 144\n",
            "Iterations: 100\n",
            "Algorithm: PathCompression\n",
            "monte_carlo_percolation_test: Elapsed time of 98.92656755447388 s\n",
            "\n",
            "Percolation Threshold Average: 59.2436%\n",
            "Board Size: 144\n",
            "Iterations: 100\n",
            "Algorithm: WeightedQuickUnion\n",
            "monte_carlo_percolation_test: Elapsed time of 99.32693934440613 s\n",
            "\n",
            "Percolation Threshold Average: 59.2436%\n",
            "Board Size: 144\n",
            "Iterations: 100\n",
            "Algorithm: QuickUnion\n",
            "monte_carlo_percolation_test: Elapsed time of 113.70757365226746 s\n",
            "\n",
            "Percolation Threshold Average: 59.2436%\n",
            "Board Size: 144\n",
            "Iterations: 100\n",
            "Algorithm: QuickFind\n",
            "monte_carlo_percolation_test: Elapsed time of 1991.695923089981 s\n",
            "\n",
            "The average threshold of percolation for 100 iterations across network sizes 4 to 12 is: 59.36516363636363\n"
          ]
        }
      ],
      "source": [
        "threshold_average = []\n",
        "pc = 'PathCompression'\n",
        "wqu = 'WeightedQuickUnion'\n",
        "qu = 'QuickUnion'\n",
        "qf = 'QuickFind'\n",
        "pc_times = []\n",
        "wqu_times = []\n",
        "qu_times = []\n",
        "qf_times = []\n",
        "for i in range(11):\n",
        "    size = (i + 2) ** 2\n",
        "    mc = MonteCarlo(size, 100)\n",
        "    print(f\"Tests for network size: {size}\")\n",
        "    print(\"__________________________\")\n",
        "    pc_result = mc.monte_carlo_percolation_test(pc, randomized=False, seed_value=3)\n",
        "    pc_times.append(pc_result[1])\n",
        "    threshold_average.append(pc_result[0])\n",
        "    print()\n",
        "    wqu_result = mc.monte_carlo_percolation_test(wqu, randomized=False, seed_value=3)\n",
        "    wqu_times.append(wqu_result[1])\n",
        "    print()\n",
        "    qu_result = mc.monte_carlo_percolation_test(qu, randomized=False, seed_value=3)\n",
        "    qu_times.append(qu_result[1])\n",
        "    print()\n",
        "    qf_result = mc.monte_carlo_percolation_test(qf, randomized=False, seed_value=3)\n",
        "    qf_times.append(qf_result[1])\n",
        "    print()\n",
        "print(f\"The average threshold of percolation for 100 iterations across network sizes 4 to 12 is: {sum(threshold_average)/len(threshold_average)}\")"
      ],
      "id": "e4c0183e-b081-48b4-8a60-afca9f3cc8aa"
    },
    {
      "cell_type": "code",
      "source": [
        "x = [x for x in range(2, 13, 1)]\n",
        "y1 = pc_times\n",
        "y2 = wqu_times\n",
        "y3 = qu_times\n",
        "y4 = qf_times\n",
        "plt.figure(figsize=(15, 9)) \n",
        "plt.plot(x, y1, label = \"path compression\")\n",
        "plt.plot(x, y2, label = \"weighted quick union\")\n",
        "plt.plot(x, y3, label = \"quick union\")\n",
        "plt.plot(x, y4, label = \"quick find\")\n",
        "plt.legend()\n",
        "plt.show()"
      ],
      "metadata": {
        "colab": {
          "base_uri": "https://localhost:8080/",
          "height": 537
        },
        "id": "FuWuX27se2-Y",
        "outputId": "b52641c9-3df6-4bec-c8f9-4cdd9b391d3d"
      },
      "id": "FuWuX27se2-Y",
      "execution_count": 8,
      "outputs": [
        {
          "output_type": "display_data",
          "data": {
            "text/plain": [
              "<Figure size 1080x648 with 1 Axes>"
            ],
            "image/png": "[encoded data removed]"
          },
          "metadata": {
            "needs_background": "light"
          }
        }
      ]
    },
    {
      "cell_type": "code",
      "source": [
        "ram_gb = virtual_memory().total / 1e9\n",
        "print('Your runtime has {:.1f} gigabytes of available RAM\\n'.format(ram_gb))\n",
        "\n",
        "if ram_gb < 20:\n",
        "  print('Not using a high-RAM runtime')\n",
        "else:\n",
        "  print('You are using a high-RAM runtime!')"
      ],
      "metadata": {
        "colab": {
          "base_uri": "https://localhost:8080/"
        },
        "id": "AQ74opBkcKYm",
        "outputId": "b4f0231f-1bd1-4add-f2e6-dd7d76d0e3a6"
      },
      "id": "AQ74opBkcKYm",
      "execution_count": null,
      "outputs": [
        {
          "output_type": "stream",
          "name": "stdout",
          "text": [
            "Your runtime has 27.3 gigabytes of available RAM\n",
            "\n",
            "You are using a high-RAM runtime!\n"
          ]
        }
      ]
    },
    {
      "cell_type": "code",
      "execution_count": null,
      "metadata": {
        "colab": {
          "base_uri": "https://localhost:8080/"
        },
        "id": "21b36884-bd21-4215-a6bc-4e78cbf6c54b",
        "outputId": "09d6d265-22a9-4eb3-c274-bd22fd1a88eb"
      },
      "outputs": [
        {
          "output_type": "stream",
          "name": "stdout",
          "text": [
            "Size 100 x 100 at 100 iterations\n",
            "---------------------------------------\n",
            "Algorithm: PathCompression\n",
            "monte_carlo_full_connection_test: Elapsed time of 6.341034412384033 s\n",
            "\n",
            "Algorithm: WeightedQuickUnion\n",
            "monte_carlo_full_connection_test: Elapsed time of 6.041508674621582 s\n",
            "\n",
            "Algorithm: QuickUnion\n",
            "monte_carlo_full_connection_test: Elapsed time of 27.71798038482666 s\n",
            "\n",
            "Size 100 x 100 at 500 iterations\n",
            "---------------------------------------\n",
            "Algorithm: PathCompression\n",
            "monte_carlo_full_connection_test: Elapsed time of 31.781149864196777 s\n",
            "\n",
            "Algorithm: WeightedQuickUnion\n",
            "monte_carlo_full_connection_test: Elapsed time of 29.83543872833252 s\n",
            "\n",
            "Algorithm: QuickUnion\n",
            "monte_carlo_full_connection_test: Elapsed time of 139.72334575653076 s\n",
            "\n",
            "Size 100 x 100 at 1000 iterations\n",
            "---------------------------------------\n",
            "Algorithm: PathCompression\n",
            "monte_carlo_full_connection_test: Elapsed time of 63.35952186584473 s\n",
            "\n",
            "Algorithm: WeightedQuickUnion\n",
            "monte_carlo_full_connection_test: Elapsed time of 59.632580280303955 s\n",
            "\n",
            "Algorithm: QuickUnion\n",
            "monte_carlo_full_connection_test: Elapsed time of 279.43210792541504 s\n",
            "\n",
            "Size 100 x 100 at 2500 iterations\n",
            "---------------------------------------\n",
            "Algorithm: PathCompression\n",
            "monte_carlo_full_connection_test: Elapsed time of 157.9001476764679 s\n",
            "\n",
            "Algorithm: WeightedQuickUnion\n",
            "monte_carlo_full_connection_test: Elapsed time of 148.99802994728088 s\n",
            "\n",
            "Algorithm: QuickUnion\n",
            "monte_carlo_full_connection_test: Elapsed time of 696.1855499744415 s\n",
            "\n",
            "Size 100 x 100 at 5000 iterations\n",
            "---------------------------------------\n",
            "Algorithm: PathCompression\n",
            "monte_carlo_full_connection_test: Elapsed time of 317.84086656570435 s\n",
            "\n",
            "Algorithm: WeightedQuickUnion\n",
            "monte_carlo_full_connection_test: Elapsed time of 300.11929845809937 s\n",
            "\n",
            "Algorithm: QuickUnion\n",
            "monte_carlo_full_connection_test: Elapsed time of 1394.2437167167664 s\n",
            "\n"
          ]
        }
      ],
      "source": [
        "pc = 'PathCompression'\n",
        "wqu = 'WeightedQuickUnion'\n",
        "qu = 'QuickUnion'\n",
        "pc_times = []\n",
        "wqu_times = []\n",
        "qu_times = []\n",
        "for i in [100, 500, 1000, 2500, 5000]:\n",
        "    size = 100\n",
        "    times = i\n",
        "    mc = MonteCarlo(size, i)\n",
        "    print(f\"Size {size} x {size} at {i} iterations\")\n",
        "    print(\"---------------------------------------\")\n",
        "    print(f\"Algorithm: {pc}\")\n",
        "    pc_times.append(mc.monte_carlo_full_connection_test(pc, seed_value=3, show_results=False)[1])\n",
        "    print()\n",
        "    print(f\"Algorithm: {wqu}\")\n",
        "    wqu_times.append(mc.monte_carlo_full_connection_test(wqu, seed_value=3, show_results=False)[1])\n",
        "    print()\n",
        "    print(f\"Algorithm: {qu}\")\n",
        "    qu_times.append(mc.monte_carlo_full_connection_test(qu, seed_value=3, show_results=False)[1])\n",
        "    print()"
      ],
      "id": "21b36884-bd21-4215-a6bc-4e78cbf6c54b"
    },
    {
      "cell_type": "code",
      "execution_count": null,
      "metadata": {
        "colab": {
          "base_uri": "https://localhost:8080/",
          "height": 537
        },
        "id": "2a0b3a69-7a44-4d62-a208-a261d549c1fa",
        "outputId": "6e6fe8a9-5689-419e-fdac-8c939136de80"
      },
      "outputs": [
        {
          "output_type": "display_data",
          "data": {
            "text/plain": [
              "<Figure size 1080x648 with 1 Axes>"
            ],
            "image/png": "[encoded data removed]"
          },
          "metadata": {
            "needs_background": "light"
          }
        }
      ],
      "source": [
        "x = [100, 500, 1000, 2500, 5000]\n",
        "y1 = pc_times\n",
        "y2 = wqu_times\n",
        "y3 = qu_times\n",
        "plt.figure(figsize=(15, 9)) \n",
        "plt.plot(x, y1, label = \"path compression\")\n",
        "plt.plot(x, y2, label = \"weighted quick union\")\n",
        "plt.plot(x, y3, label = \"quick union\")\n",
        "plt.legend()\n",
        "plt.show()"
      ],
      "id": "2a0b3a69-7a44-4d62-a208-a261d549c1fa"
    },
    {
      "cell_type": "code",
      "source": [
        "ram_gb = virtual_memory().total / 1e9\n",
        "print('Your runtime has {:.1f} gigabytes of available RAM\\n'.format(ram_gb))\n",
        "\n",
        "if ram_gb < 20:\n",
        "  print('Not using a high-RAM runtime')\n",
        "else:\n",
        "  print('You are using a high-RAM runtime!')"
      ],
      "metadata": {
        "colab": {
          "base_uri": "https://localhost:8080/"
        },
        "id": "IphhgOpUcO5_",
        "outputId": "41dd3760-35f1-413f-afee-d3e527265ff9"
      },
      "id": "IphhgOpUcO5_",
      "execution_count": null,
      "outputs": [
        {
          "output_type": "stream",
          "name": "stdout",
          "text": [
            "Your runtime has 27.3 gigabytes of available RAM\n",
            "\n",
            "You are using a high-RAM runtime!\n"
          ]
        }
      ]
    },
    {
      "cell_type": "code",
      "execution_count": null,
      "metadata": {
        "colab": {
          "base_uri": "https://localhost:8080/"
        },
        "id": "SbpmxM9n_9Rf",
        "outputId": "c541264b-668f-4087-faea-b209b584291a"
      },
      "outputs": [
        {
          "output_type": "stream",
          "name": "stdout",
          "text": [
            "Size 1000 x 1000 at one iteration\n",
            "---------------------------------------\n",
            "Algorithm: PathCompression\n",
            "monte_carlo_full_connection_test: Elapsed time of 7.748592853546143 s\n",
            "\n",
            "Algorithm: WeightedQuickUnion\n",
            "monte_carlo_full_connection_test: Elapsed time of 7.579691410064697 s\n",
            "\n",
            "Size 1500 x 1500 at one iteration\n",
            "---------------------------------------\n",
            "Algorithm: PathCompression\n",
            "monte_carlo_full_connection_test: Elapsed time of 17.930012702941895 s\n",
            "\n",
            "Algorithm: WeightedQuickUnion\n",
            "monte_carlo_full_connection_test: Elapsed time of 17.46544623374939 s\n",
            "\n",
            "Size 2000 x 2000 at one iteration\n",
            "---------------------------------------\n",
            "Algorithm: PathCompression\n",
            "monte_carlo_full_connection_test: Elapsed time of 32.17445206642151 s\n",
            "\n",
            "Algorithm: WeightedQuickUnion\n",
            "monte_carlo_full_connection_test: Elapsed time of 31.95862889289856 s\n",
            "\n",
            "Size 2500 x 2500 at one iteration\n",
            "---------------------------------------\n",
            "Algorithm: PathCompression\n",
            "monte_carlo_full_connection_test: Elapsed time of 50.80096411705017 s\n",
            "\n",
            "Algorithm: WeightedQuickUnion\n",
            "monte_carlo_full_connection_test: Elapsed time of 50.843347787857056 s\n",
            "\n",
            "Size 3000 x 3000 at one iteration\n",
            "---------------------------------------\n",
            "Algorithm: PathCompression\n",
            "monte_carlo_full_connection_test: Elapsed time of 73.78773713111877 s\n",
            "\n",
            "Algorithm: WeightedQuickUnion\n",
            "monte_carlo_full_connection_test: Elapsed time of 73.7206015586853 s\n",
            "\n",
            "Size 3500 x 3500 at one iteration\n",
            "---------------------------------------\n",
            "Algorithm: PathCompression\n",
            "monte_carlo_full_connection_test: Elapsed time of 101.30502247810364 s\n",
            "\n",
            "Algorithm: WeightedQuickUnion\n",
            "monte_carlo_full_connection_test: Elapsed time of 101.10954141616821 s\n",
            "\n",
            "Size 4000 x 4000 at one iteration\n",
            "---------------------------------------\n",
            "Algorithm: PathCompression\n",
            "monte_carlo_full_connection_test: Elapsed time of 132.99962496757507 s\n",
            "\n",
            "Algorithm: WeightedQuickUnion\n",
            "monte_carlo_full_connection_test: Elapsed time of 132.24409222602844 s\n",
            "\n",
            "Size 4500 x 4500 at one iteration\n",
            "---------------------------------------\n",
            "Algorithm: PathCompression\n",
            "monte_carlo_full_connection_test: Elapsed time of 171.32003498077393 s\n",
            "\n",
            "Algorithm: WeightedQuickUnion\n",
            "monte_carlo_full_connection_test: Elapsed time of 171.08304715156555 s\n",
            "\n",
            "Size 5000 x 5000 at one iteration\n",
            "---------------------------------------\n",
            "Algorithm: PathCompression\n",
            "monte_carlo_full_connection_test: Elapsed time of 209.8401370048523 s\n",
            "\n",
            "Algorithm: WeightedQuickUnion\n",
            "monte_carlo_full_connection_test: Elapsed time of 210.7119336128235 s\n",
            "\n",
            "Size 5500 x 5500 at one iteration\n",
            "---------------------------------------\n",
            "Algorithm: PathCompression\n",
            "monte_carlo_full_connection_test: Elapsed time of 253.99672603607178 s\n",
            "\n",
            "Algorithm: WeightedQuickUnion\n",
            "monte_carlo_full_connection_test: Elapsed time of 256.0250861644745 s\n",
            "\n",
            "Size 6000 x 6000 at one iteration\n",
            "---------------------------------------\n",
            "Algorithm: PathCompression\n",
            "monte_carlo_full_connection_test: Elapsed time of 300.05112886428833 s\n",
            "\n",
            "Algorithm: WeightedQuickUnion\n",
            "monte_carlo_full_connection_test: Elapsed time of 306.0301456451416 s\n",
            "\n",
            "Size 6500 x 6500 at one iteration\n",
            "---------------------------------------\n",
            "Algorithm: PathCompression\n",
            "monte_carlo_full_connection_test: Elapsed time of 358.3278274536133 s\n",
            "\n",
            "Algorithm: WeightedQuickUnion\n",
            "monte_carlo_full_connection_test: Elapsed time of 360.21933674812317 s\n",
            "\n",
            "Size 7000 x 7000 at one iteration\n",
            "---------------------------------------\n",
            "Algorithm: PathCompression\n",
            "monte_carlo_full_connection_test: Elapsed time of 417.53723883628845 s\n",
            "\n",
            "Algorithm: WeightedQuickUnion\n",
            "monte_carlo_full_connection_test: Elapsed time of 425.9825119972229 s\n",
            "\n",
            "Size 7500 x 7500 at one iteration\n",
            "---------------------------------------\n",
            "Algorithm: PathCompression\n",
            "monte_carlo_full_connection_test: Elapsed time of 491.6384222507477 s\n",
            "\n",
            "Algorithm: WeightedQuickUnion\n",
            "monte_carlo_full_connection_test: Elapsed time of 491.75564312934875 s\n",
            "\n",
            "Size 8000 x 8000 at one iteration\n",
            "---------------------------------------\n",
            "Algorithm: PathCompression\n",
            "monte_carlo_full_connection_test: Elapsed time of 554.734269618988 s\n",
            "\n",
            "Algorithm: WeightedQuickUnion\n",
            "monte_carlo_full_connection_test: Elapsed time of 559.0273249149323 s\n",
            "\n",
            "Size 8500 x 8500 at one iteration\n",
            "---------------------------------------\n",
            "Algorithm: PathCompression\n",
            "monte_carlo_full_connection_test: Elapsed time of 624.6195685863495 s\n",
            "\n",
            "Algorithm: WeightedQuickUnion\n",
            "monte_carlo_full_connection_test: Elapsed time of 622.1749966144562 s\n",
            "\n",
            "Size 9000 x 9000 at one iteration\n",
            "---------------------------------------\n",
            "Algorithm: PathCompression\n",
            "monte_carlo_full_connection_test: Elapsed time of 765.8488805294037 s\n",
            "\n",
            "Algorithm: WeightedQuickUnion\n",
            "monte_carlo_full_connection_test: Elapsed time of 729.7703199386597 s\n",
            "\n",
            "Size 9500 x 9500 at one iteration\n",
            "---------------------------------------\n",
            "Algorithm: PathCompression\n",
            "monte_carlo_full_connection_test: Elapsed time of 812.5124216079712 s\n",
            "\n",
            "Algorithm: WeightedQuickUnion\n",
            "monte_carlo_full_connection_test: Elapsed time of 832.3255705833435 s\n",
            "\n",
            "Size 10000 x 10000 at one iteration\n",
            "---------------------------------------\n",
            "Algorithm: PathCompression\n",
            "monte_carlo_full_connection_test: Elapsed time of 894.2434561252594 s\n",
            "\n",
            "Algorithm: WeightedQuickUnion\n",
            "monte_carlo_full_connection_test: Elapsed time of 964.9468760490417 s\n",
            "\n"
          ]
        }
      ],
      "source": [
        "pc = 'PathCompression'\n",
        "wqu = 'WeightedQuickUnion'\n",
        "pc_times = []\n",
        "wqu_times = []\n",
        "for size in range(1000, 10001, 500):\n",
        "    mc = MonteCarlo(size, 1)\n",
        "    print(f\"Size {size} x {size} at one iteration\")\n",
        "    print(\"---------------------------------------\")\n",
        "    print(f\"Algorithm: {pc}\")\n",
        "    pc_times.append(mc.monte_carlo_full_connection_test(pc, seed_value=3, show_results=False)[1])\n",
        "    print()\n",
        "    print(f\"Algorithm: {wqu}\")\n",
        "    wqu_times.append(mc.monte_carlo_full_connection_test(wqu, seed_value=3, show_results=False)[1])\n",
        "    print()"
      ],
      "id": "SbpmxM9n_9Rf"
    },
    {
      "cell_type": "code",
      "execution_count": null,
      "metadata": {
        "id": "8Gu6mha1ArMd",
        "colab": {
          "base_uri": "https://localhost:8080/",
          "height": 537
        },
        "outputId": "543b2c13-c9b5-4ed6-e44e-f5b50395b9d4"
      },
      "outputs": [
        {
          "output_type": "display_data",
          "data": {
            "text/plain": [
              "<Figure size 1080x648 with 1 Axes>"
            ],
            "image/png": "[encoded data removed]"
          },
          "metadata": {
            "needs_background": "light"
          }
        }
      ],
      "source": [
        "x = [x for x in range(1000, 10001, 500)]\n",
        "y1 = pc_times\n",
        "y2 = wqu_times\n",
        "plt.figure(figsize=(15, 9)) \n",
        "plt.plot(x, y1, label = \"path compression\")\n",
        "plt.plot(x, y2, label = \"weighted quick union\")\n",
        "plt.legend()\n",
        "\n",
        "plt.show()"
      ],
      "id": "8Gu6mha1ArMd"
    },
    {
      "cell_type": "code",
      "execution_count": null,
      "metadata": {
        "id": "1FpFpufTAv0r",
        "colab": {
          "base_uri": "https://localhost:8080/"
        },
        "outputId": "a2b8cf69-df32-4b94-9c0b-19466eaf1b04"
      },
      "outputs": [
        {
          "output_type": "stream",
          "name": "stdout",
          "text": [
            "Algorithm: PathCompression\n",
            "Board Size: 15000 x 15000\n",
            "Iterations: 1\n",
            "Algorithm: PathCompression\n",
            "monte_carlo_full_connection_test: Elapsed time of 2149.26775097847 s\n",
            "\n",
            "Algorithm: WeightedQuickUnion\n",
            "Board Size: 15000 x 15000\n",
            "Iterations: 1\n",
            "Algorithm: WeightedQuickUnion\n",
            "monte_carlo_full_connection_test: Elapsed time of 2124.195415019989 s\n",
            "\n"
          ]
        }
      ],
      "source": [
        "pc = 'PathCompression'\n",
        "wqu = 'WeightedQuickUnion'\n",
        "mc = MonteCarlo(15000, 1)\n",
        "print(f\"Algorithm: {pc}\")\n",
        "mc.monte_carlo_full_connection_test(pc, seed_value=3, show_results=True)\n",
        "print()\n",
        "print(f\"Algorithm: {wqu}\")\n",
        "mc.monte_carlo_full_connection_test(wqu, seed_value=3, show_results=True)\n",
        "print()"
      ],
      "id": "1FpFpufTAv0r"
    },
    {
      "cell_type": "code",
      "source": [
        ""
      ],
      "metadata": {
        "id": "EuQCu3QmIeYl"
      },
      "id": "EuQCu3QmIeYl",
      "execution_count": null,
      "outputs": []
    }
  ],
  "metadata": {
    "accelerator": "GPU",
    "colab": {
      "collapsed_sections": [],
      "name": "Percolation_comparison_tests.ipynb",
      "provenance": [],
      "machine_shape": "hm",
      "include_colab_link": true
    },
    "gpuClass": "standard",
    "kernelspec": {
      "display_name": "Python 3 (ipykernel)",
      "language": "python",
      "name": "python3"
    },
    "language_info": {
      "codemirror_mode": {
        "name": "ipython",
        "version": 3
      },
      "file_extension": ".py",
      "mimetype": "text/x-python",
      "name": "python",
      "nbconvert_exporter": "python",
      "pygments_lexer": "ipython3",
      "version": "3.8.8"
    }
  },
  "nbformat": 4,
  "nbformat_minor": 5
}