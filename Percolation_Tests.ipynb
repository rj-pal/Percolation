{
  "cells": [
    {
      "cell_type": "markdown",
      "metadata": {
        "id": "view-in-github",
        "colab_type": "text"
      },
      "source": [
        "<a href=\"https://colab.research.google.com/github/rj-pal/Percolation/blob/main/Percolation_Tests.ipynb\" target=\"_parent\"><img src=\"https://colab.research.google.com/assets/colab-badge.svg\" alt=\"Open In Colab\"/></a>"
      ]
    },
    {
      "cell_type": "markdown",
      "metadata": {
        "id": "143f0bcf-2197-49d8-8132-afa1df83cab8"
      },
      "source": [
        "# Percolation Test Results"
      ],
      "id": "143f0bcf-2197-49d8-8132-afa1df83cab8"
    },
    {
      "cell_type": "code",
      "execution_count": 4,
      "metadata": {
        "colab": {
          "base_uri": "https://localhost:8080/"
        },
        "id": "8JyLbyas0Npk",
        "outputId": "dd074af6-1271-4f25-8ed5-2b0c50d4b966"
      },
      "outputs": [
        {
          "output_type": "stream",
          "name": "stdout",
          "text": [
            "Drive already mounted at /content/drive; to attempt to forcibly remount, call drive.mount(\"/content/drive\", force_remount=True).\n"
          ]
        }
      ],
      "source": [
        "from google.colab import drive\n",
        "drive.mount('/content/drive')"
      ],
      "id": "8JyLbyas0Npk"
    },
    {
      "cell_type": "code",
      "execution_count": 3,
      "metadata": {
        "colab": {
          "base_uri": "https://localhost:8080/"
        },
        "id": "0KuIQgV_01Qt",
        "outputId": "6e641a84-7ce4-4f4c-a98a-ff522ecceb84"
      },
      "outputs": [
        {
          "output_type": "stream",
          "name": "stdout",
          "text": [
            "Fri Jun 17 21:15:20 2022       \n",
            "+-----------------------------------------------------------------------------+\n",
            "| NVIDIA-SMI 460.32.03    Driver Version: 460.32.03    CUDA Version: 11.2     |\n",
            "|-------------------------------+----------------------+----------------------+\n",
            "| GPU  Name        Persistence-M| Bus-Id        Disp.A | Volatile Uncorr. ECC |\n",
            "| Fan  Temp  Perf  Pwr:Usage/Cap|         Memory-Usage | GPU-Util  Compute M. |\n",
            "|                               |                      |               MIG M. |\n",
            "|===============================+======================+======================|\n",
            "|   0  Tesla P100-PCIE...  Off  | 00000000:00:04.0 Off |                    0 |\n",
            "| N/A   40C    P0    26W / 250W |      0MiB / 16280MiB |      0%      Default |\n",
            "|                               |                      |                  N/A |\n",
            "+-------------------------------+----------------------+----------------------+\n",
            "                                                                               \n",
            "+-----------------------------------------------------------------------------+\n",
            "| Processes:                                                                  |\n",
            "|  GPU   GI   CI        PID   Type   Process name                  GPU Memory |\n",
            "|        ID   ID                                                   Usage      |\n",
            "|=============================================================================|\n",
            "|  No running processes found                                                 |\n",
            "+-----------------------------------------------------------------------------+\n"
          ]
        }
      ],
      "source": [
        "# Check GPU connection\n",
        "gpu_info = !nvidia-smi\n",
        "gpu_info = '\\n'.join(gpu_info)\n",
        "if gpu_info.find('failed') >= 0:\n",
        "  print('Not connected to a GPU')\n",
        "else:\n",
        "  print(gpu_info)"
      ],
      "id": "0KuIQgV_01Qt"
    },
    {
      "cell_type": "code",
      "execution_count": 5,
      "metadata": {
        "id": "tCjYH9uv0wJn"
      },
      "outputs": [],
      "source": [
        "import sys\n",
        "sys.path.append('drive/MyDrive/modules')"
      ],
      "id": "tCjYH9uv0wJn"
    },
    {
      "cell_type": "code",
      "execution_count": 6,
      "metadata": {
        "colab": {
          "base_uri": "https://localhost:8080/"
        },
        "id": "feUK_nqg108X",
        "outputId": "e70eaef5-c012-4347-c5bb-7620e8eeaee3"
      },
      "outputs": [
        {
          "output_type": "stream",
          "name": "stdout",
          "text": [
            "Looking in indexes: https://pypi.org/simple, https://us-python.pkg.dev/colab-wheels/public/simple/\n",
            "Requirement already satisfied: colorama in /usr/local/lib/python3.7/dist-packages (0.4.5)\n"
          ]
        }
      ],
      "source": [
        "# To meet the requirements of the Percolation Visualization Class- not used here\n",
        "\n",
        "!pip install colorama"
      ],
      "id": "feUK_nqg108X"
    },
    {
      "cell_type": "code",
      "execution_count": 7,
      "metadata": {
        "id": "70e12c85-ead6-4323-81bf-5c21ae366db2"
      },
      "outputs": [],
      "source": [
        "from Percolation import *\n",
        "import matplotlib.pyplot as plt"
      ],
      "id": "70e12c85-ead6-4323-81bf-5c21ae366db2"
    },
    {
      "cell_type": "markdown",
      "metadata": {
        "id": "GSJuwrovNJG8"
      },
      "source": [
        "Test 1: Compares all four algorithms (Quick Find, Quick Union, Weighted Quick Union, and Weighted Quick Union with Path Compression) to look at the run times of 100 iterations from a 4 x 4 network to a 11 x 11 network. \n",
        "\n",
        "The test is for percolation and the percolation threshold is shown for each.\n",
        "\n",
        "In the results below, we can clearly see the advantage of Quick Union over Quick Find when scaling the number of iterations. The performance advantage of the quick union algorithms can be seen first at the network size of 16, where quick find takes more than double the time to percolate. By the last iteration, size of 11, the time is more than 10 times longer."
      ],
      "id": "GSJuwrovNJG8"
    },
    {
      "cell_type": "code",
      "execution_count": null,
      "metadata": {
        "colab": {
          "base_uri": "https://localhost:8080/"
        },
        "id": "e4c0183e-b081-48b4-8a60-afca9f3cc8aa",
        "outputId": "2fa82550-6bed-4048-a502-afb4a1bd2a66"
      },
      "outputs": [
        {
          "name": "stdout",
          "output_type": "stream",
          "text": [
            "Tests for network size: 4\n",
            "__________________________\n",
            "Percolation Threshold Average: 60.5%\n",
            "Board Size: 4\n",
            "Iterations: 100\n",
            "Algorithm: PathCompression\n",
            "monte_carlo_percolation_test: Elapsed time of 0.015648841857910156 s\n",
            "\n",
            "Percolation Threshold Average: 60.5%\n",
            "Board Size: 4\n",
            "Iterations: 100\n",
            "Algorithm: WeightedQuickUnion\n",
            "monte_carlo_percolation_test: Elapsed time of 0.010016679763793945 s\n",
            "\n",
            "Percolation Threshold Average: 60.5%\n",
            "Board Size: 4\n",
            "Iterations: 100\n",
            "Algorithm: QuickUnion\n",
            "monte_carlo_percolation_test: Elapsed time of 0.014173269271850586 s\n",
            "\n",
            "Percolation Threshold Average: 60.5%\n",
            "Board Size: 4\n",
            "Iterations: 100\n",
            "Algorithm: QuickFind\n",
            "monte_carlo_percolation_test: Elapsed time of 0.012816905975341797 s\n",
            "\n",
            "Tests for network size: 9\n",
            "__________________________\n",
            "Percolation Threshold Average: 59.5553%\n",
            "Board Size: 9\n",
            "Iterations: 100\n",
            "Algorithm: PathCompression\n",
            "monte_carlo_percolation_test: Elapsed time of 0.06678271293640137 s\n",
            "\n",
            "Percolation Threshold Average: 59.5553%\n",
            "Board Size: 9\n",
            "Iterations: 100\n",
            "Algorithm: WeightedQuickUnion\n",
            "monte_carlo_percolation_test: Elapsed time of 0.06148982048034668 s\n",
            "\n",
            "Percolation Threshold Average: 59.5553%\n",
            "Board Size: 9\n",
            "Iterations: 100\n",
            "Algorithm: QuickUnion\n",
            "monte_carlo_percolation_test: Elapsed time of 0.06367826461791992 s\n",
            "\n",
            "Percolation Threshold Average: 59.5553%\n",
            "Board Size: 9\n",
            "Iterations: 100\n",
            "Algorithm: QuickFind\n",
            "monte_carlo_percolation_test: Elapsed time of 0.07626461982727051 s\n",
            "\n",
            "Tests for network size: 16\n",
            "__________________________\n",
            "Percolation Threshold Average: 59.078%\n",
            "Board Size: 16\n",
            "Iterations: 100\n",
            "Algorithm: PathCompression\n",
            "monte_carlo_percolation_test: Elapsed time of 0.29818153381347656 s\n",
            "\n",
            "Percolation Threshold Average: 59.078%\n",
            "Board Size: 16\n",
            "Iterations: 100\n",
            "Algorithm: WeightedQuickUnion\n",
            "monte_carlo_percolation_test: Elapsed time of 0.27181124687194824 s\n",
            "\n",
            "Percolation Threshold Average: 59.078%\n",
            "Board Size: 16\n",
            "Iterations: 100\n",
            "Algorithm: QuickUnion\n",
            "monte_carlo_percolation_test: Elapsed time of 0.21169781684875488 s\n",
            "\n",
            "Percolation Threshold Average: 59.078%\n",
            "Board Size: 16\n",
            "Iterations: 100\n",
            "Algorithm: QuickFind\n",
            "monte_carlo_percolation_test: Elapsed time of 0.5189673900604248 s\n",
            "\n",
            "Tests for network size: 25\n",
            "__________________________\n",
            "Percolation Threshold Average: 59.4672%\n",
            "Board Size: 25\n",
            "Iterations: 100\n",
            "Algorithm: PathCompression\n",
            "monte_carlo_percolation_test: Elapsed time of 0.8189921379089355 s\n",
            "\n",
            "Percolation Threshold Average: 59.4672%\n",
            "Board Size: 25\n",
            "Iterations: 100\n",
            "Algorithm: WeightedQuickUnion\n",
            "monte_carlo_percolation_test: Elapsed time of 1.330859661102295 s\n",
            "\n",
            "Percolation Threshold Average: 59.4672%\n",
            "Board Size: 25\n",
            "Iterations: 100\n",
            "Algorithm: QuickUnion\n",
            "monte_carlo_percolation_test: Elapsed time of 1.7003982067108154 s\n",
            "\n",
            "Percolation Threshold Average: 59.4672%\n",
            "Board Size: 25\n",
            "Iterations: 100\n",
            "Algorithm: QuickFind\n",
            "monte_carlo_percolation_test: Elapsed time of 5.0235583782196045 s\n",
            "\n",
            "Tests for network size: 36\n",
            "__________________________\n",
            "Percolation Threshold Average: 58.7181%\n",
            "Board Size: 36\n",
            "Iterations: 100\n",
            "Algorithm: PathCompression\n",
            "monte_carlo_percolation_test: Elapsed time of 1.9478259086608887 s\n",
            "\n",
            "Percolation Threshold Average: 58.7181%\n",
            "Board Size: 36\n",
            "Iterations: 100\n",
            "Algorithm: WeightedQuickUnion\n",
            "monte_carlo_percolation_test: Elapsed time of 1.908397912979126 s\n",
            "\n",
            "Percolation Threshold Average: 58.7181%\n",
            "Board Size: 36\n",
            "Iterations: 100\n",
            "Algorithm: QuickUnion\n",
            "monte_carlo_percolation_test: Elapsed time of 2.0189852714538574 s\n",
            "\n",
            "Percolation Threshold Average: 58.7181%\n",
            "Board Size: 36\n",
            "Iterations: 100\n",
            "Algorithm: QuickFind\n",
            "monte_carlo_percolation_test: Elapsed time of 8.5213143825531 s\n",
            "\n",
            "Tests for network size: 49\n",
            "__________________________\n",
            "Percolation Threshold Average: 59.2573%\n",
            "Board Size: 49\n",
            "Iterations: 100\n",
            "Algorithm: PathCompression\n",
            "monte_carlo_percolation_test: Elapsed time of 4.570306301116943 s\n",
            "\n",
            "Percolation Threshold Average: 59.2573%\n",
            "Board Size: 49\n",
            "Iterations: 100\n",
            "Algorithm: WeightedQuickUnion\n",
            "monte_carlo_percolation_test: Elapsed time of 4.911559820175171 s\n",
            "\n",
            "Percolation Threshold Average: 59.2573%\n",
            "Board Size: 49\n",
            "Iterations: 100\n",
            "Algorithm: QuickUnion\n",
            "monte_carlo_percolation_test: Elapsed time of 4.871042728424072 s\n",
            "\n",
            "Percolation Threshold Average: 59.2573%\n",
            "Board Size: 49\n",
            "Iterations: 100\n",
            "Algorithm: QuickFind\n",
            "monte_carlo_percolation_test: Elapsed time of 28.373395442962646 s\n",
            "\n",
            "Tests for network size: 64\n",
            "__________________________\n",
            "Percolation Threshold Average: 59.41%\n",
            "Board Size: 64\n",
            "Iterations: 100\n",
            "Algorithm: PathCompression\n",
            "monte_carlo_percolation_test: Elapsed time of 9.578246355056763 s\n",
            "\n",
            "Percolation Threshold Average: 59.41%\n",
            "Board Size: 64\n",
            "Iterations: 100\n",
            "Algorithm: WeightedQuickUnion\n",
            "monte_carlo_percolation_test: Elapsed time of 9.555438995361328 s\n",
            "\n",
            "Percolation Threshold Average: 59.41%\n",
            "Board Size: 64\n",
            "Iterations: 100\n",
            "Algorithm: QuickUnion\n",
            "monte_carlo_percolation_test: Elapsed time of 10.388780355453491 s\n",
            "\n",
            "Percolation Threshold Average: 59.41%\n",
            "Board Size: 64\n",
            "Iterations: 100\n",
            "Algorithm: QuickFind\n",
            "monte_carlo_percolation_test: Elapsed time of 79.07217741012573 s\n",
            "\n",
            "Tests for network size: 81\n",
            "__________________________\n",
            "Percolation Threshold Average: 59.068%\n",
            "Board Size: 81\n",
            "Iterations: 100\n",
            "Algorithm: PathCompression\n",
            "monte_carlo_percolation_test: Elapsed time of 18.895735502243042 s\n",
            "\n",
            "Percolation Threshold Average: 59.068%\n",
            "Board Size: 81\n",
            "Iterations: 100\n",
            "Algorithm: WeightedQuickUnion\n",
            "monte_carlo_percolation_test: Elapsed time of 18.86570954322815 s\n",
            "\n",
            "Percolation Threshold Average: 59.068%\n",
            "Board Size: 81\n",
            "Iterations: 100\n",
            "Algorithm: QuickUnion\n",
            "monte_carlo_percolation_test: Elapsed time of 20.74068784713745 s\n",
            "\n",
            "Percolation Threshold Average: 59.068%\n",
            "Board Size: 81\n",
            "Iterations: 100\n",
            "Algorithm: QuickFind\n",
            "monte_carlo_percolation_test: Elapsed time of 200.89645862579346 s\n",
            "\n",
            "Tests for network size: 100\n",
            "__________________________\n",
            "Percolation Threshold Average: 59.3906%\n",
            "Board Size: 100\n",
            "Iterations: 100\n",
            "Algorithm: PathCompression\n",
            "monte_carlo_percolation_test: Elapsed time of 34.92152190208435 s\n",
            "\n",
            "Percolation Threshold Average: 59.3906%\n",
            "Board Size: 100\n",
            "Iterations: 100\n",
            "Algorithm: WeightedQuickUnion\n",
            "monte_carlo_percolation_test: Elapsed time of 35.11943316459656 s\n",
            "\n",
            "Percolation Threshold Average: 59.3906%\n",
            "Board Size: 100\n",
            "Iterations: 100\n",
            "Algorithm: QuickUnion\n",
            "monte_carlo_percolation_test: Elapsed time of 39.1129949092865 s\n",
            "\n",
            "Percolation Threshold Average: 59.3906%\n",
            "Board Size: 100\n",
            "Iterations: 100\n",
            "Algorithm: QuickFind\n",
            "monte_carlo_percolation_test: Elapsed time of 466.2035617828369 s\n",
            "\n",
            "Tests for network size: 121\n",
            "__________________________\n",
            "Percolation Threshold Average: 59.3287%\n",
            "Board Size: 121\n",
            "Iterations: 100\n",
            "Algorithm: PathCompression\n",
            "monte_carlo_percolation_test: Elapsed time of 60.36134099960327 s\n",
            "\n",
            "Percolation Threshold Average: 59.3287%\n",
            "Board Size: 121\n",
            "Iterations: 100\n",
            "Algorithm: WeightedQuickUnion\n",
            "monte_carlo_percolation_test: Elapsed time of 60.38502264022827 s\n",
            "\n",
            "Percolation Threshold Average: 59.3287%\n",
            "Board Size: 121\n",
            "Iterations: 100\n",
            "Algorithm: QuickUnion\n",
            "monte_carlo_percolation_test: Elapsed time of 69.63276314735413 s\n",
            "\n",
            "Percolation Threshold Average: 59.3287%\n",
            "Board Size: 121\n",
            "Iterations: 100\n",
            "Algorithm: QuickFind\n",
            "monte_carlo_percolation_test: Elapsed time of 1006.2324001789093 s\n",
            "\n"
          ]
        }
      ],
      "source": [
        "for i in range(10):\n",
        "    size = (i + 2) ** 2\n",
        "    mc = MonteCarlo(size, 100)\n",
        "    print(f\"Tests for network size: {size}\")\n",
        "    print(\"__________________________\")\n",
        "    mc.monte_carlo_percolation_test('PathCompression', randomized=False, seed_value=3)\n",
        "    print()\n",
        "    mc.monte_carlo_percolation_test('WeightedQuickUnion', randomized=False, seed_value=3)\n",
        "    print()\n",
        "    mc.monte_carlo_percolation_test('QuickUnion', randomized=False, seed_value=3)\n",
        "    print()\n",
        "    mc.monte_carlo_percolation_test('QuickFind', randomized=False, seed_value=3)\n",
        "    print()"
      ],
      "id": "e4c0183e-b081-48b4-8a60-afca9f3cc8aa"
    },
    {
      "cell_type": "markdown",
      "source": [
        "Test 2: Compares the Quick Union family to look at the run times of a fixed 100 x 100 network at various iterations: 100, 500, 1000, 2500, 5000.\n",
        "\n",
        "The test is for full connection of the network and the times are shown.\n",
        "\n",
        "The results show that the weighted tree algorithms really scale for full connection and perform much faster than the regular quick union algorithm."
      ],
      "metadata": {
        "id": "sMMQ27xWj0I-"
      },
      "id": "sMMQ27xWj0I-"
    },
    {
      "cell_type": "code",
      "execution_count": 7,
      "metadata": {
        "colab": {
          "base_uri": "https://localhost:8080/"
        },
        "id": "21b36884-bd21-4215-a6bc-4e78cbf6c54b",
        "outputId": "6c46933f-4d4f-4805-f8c9-1d43b80adfac"
      },
      "outputs": [
        {
          "output_type": "stream",
          "name": "stdout",
          "text": [
            "Size 100 x 100 at 100 iterations\n",
            "---------------------------------------\n",
            "Algorithm: PathCompression\n",
            "monte_carlo_full_connection_test: Elapsed time of 8.336841344833374 s\n",
            "\n",
            "Algorithm: WeightedQuickUnion\n",
            "monte_carlo_full_connection_test: Elapsed time of 7.788947820663452 s\n",
            "\n",
            "Algorithm: QuickUnion\n",
            "monte_carlo_full_connection_test: Elapsed time of 28.62847375869751 s\n",
            "\n",
            "Size 100 x 100 at 500 iterations\n",
            "---------------------------------------\n",
            "Algorithm: PathCompression\n",
            "monte_carlo_full_connection_test: Elapsed time of 32.259581327438354 s\n",
            "\n",
            "Algorithm: WeightedQuickUnion\n",
            "monte_carlo_full_connection_test: Elapsed time of 30.18432092666626 s\n",
            "\n",
            "Algorithm: QuickUnion\n",
            "monte_carlo_full_connection_test: Elapsed time of 143.35964441299438 s\n",
            "\n",
            "Size 100 x 100 at 1000 iterations\n",
            "---------------------------------------\n",
            "Algorithm: PathCompression\n",
            "monte_carlo_full_connection_test: Elapsed time of 63.66401672363281 s\n",
            "\n",
            "Algorithm: WeightedQuickUnion\n",
            "monte_carlo_full_connection_test: Elapsed time of 60.3635618686676 s\n",
            "\n",
            "Algorithm: QuickUnion\n",
            "monte_carlo_full_connection_test: Elapsed time of 285.4808509349823 s\n",
            "\n",
            "Size 100 x 100 at 2500 iterations\n",
            "---------------------------------------\n",
            "Algorithm: PathCompression\n",
            "monte_carlo_full_connection_test: Elapsed time of 160.49913597106934 s\n",
            "\n",
            "Algorithm: WeightedQuickUnion\n",
            "monte_carlo_full_connection_test: Elapsed time of 150.56690382957458 s\n",
            "\n",
            "Algorithm: QuickUnion\n",
            "monte_carlo_full_connection_test: Elapsed time of 707.3558671474457 s\n",
            "\n",
            "Size 100 x 100 at 5000 iterations\n",
            "---------------------------------------\n",
            "Algorithm: PathCompression\n",
            "monte_carlo_full_connection_test: Elapsed time of 319.05055356025696 s\n",
            "\n",
            "Algorithm: WeightedQuickUnion\n",
            "monte_carlo_full_connection_test: Elapsed time of 302.994202375412 s\n",
            "\n",
            "Algorithm: QuickUnion\n",
            "monte_carlo_full_connection_test: Elapsed time of 1424.2347288131714 s\n",
            "\n"
          ]
        }
      ],
      "source": [
        "pc = 'PathCompression'\n",
        "wqu = 'WeightedQuickUnion'\n",
        "qu = 'QuickUnion'\n",
        "pc_times = []\n",
        "wqu_times = []\n",
        "qu_times = []\n",
        "for i in [100, 500, 1000, 2500, 5000]:\n",
        "    size = 100\n",
        "    times = i\n",
        "    mc = MonteCarlo(size, i)\n",
        "    print(f\"Size {size} x {size} at {i} iterations\")\n",
        "    print(\"---------------------------------------\")\n",
        "    print(f\"Algorithm: {pc}\")\n",
        "    pc_times.append(mc.monte_carlo_full_connection_test(pc, seed_value=3, show_results=False)[1])\n",
        "    print()\n",
        "    print(f\"Algorithm: {wqu}\")\n",
        "    wqu_times.append(mc.monte_carlo_full_connection_test(wqu, seed_value=3, show_results=False)[1])\n",
        "    print()\n",
        "    print(f\"Algorithm: {qu}\")\n",
        "    qu_times.append(mc.monte_carlo_full_connection_test(qu, seed_value=3, show_results=False)[1])\n",
        "    print()"
      ],
      "id": "21b36884-bd21-4215-a6bc-4e78cbf6c54b"
    },
    {
      "cell_type": "code",
      "execution_count": 9,
      "metadata": {
        "colab": {
          "base_uri": "https://localhost:8080/",
          "height": 537
        },
        "id": "2a0b3a69-7a44-4d62-a208-a261d549c1fa",
        "outputId": "9a7a6ce8-63aa-4d83-e617-a6433f86ac32"
      },
      "outputs": [
        {
          "output_type": "display_data",
          "data": {
            "text/plain": [
              "<Figure size 1080x648 with 1 Axes>"
            ],
            "image/png": "[encoded data removed]"
          },
          "metadata": {
            "needs_background": "light"
          }
        }
      ],
      "source": [
        "x = [100, 500, 1000, 2500, 5000]\n",
        "y1 = pc_times\n",
        "y2 = wqu_times\n",
        "y3 = qu_times\n",
        "plt.figure(figsize=(15, 9)) \n",
        "plt.plot(x, y1, label = \"path compression\")\n",
        "plt.plot(x, y2, label = \"weighted quick union\")\n",
        "plt.plot(x, y3, label = \"quick union\")\n",
        "plt.legend()\n",
        "plt.show()"
      ],
      "id": "2a0b3a69-7a44-4d62-a208-a261d549c1fa"
    },
    {
      "cell_type": "code",
      "execution_count": 11,
      "metadata": {
        "colab": {
          "base_uri": "https://localhost:8080/"
        },
        "id": "SbpmxM9n_9Rf",
        "outputId": "84aa8029-fa14-4d7b-8ca1-9daf284d3a90"
      },
      "outputs": [
        {
          "output_type": "stream",
          "name": "stdout",
          "text": [
            "Size 500 x 500 at one iteration\n",
            "---------------------------------------\n",
            "Algorithm: PathCompression\n",
            "monte_carlo_full_connection_test: Elapsed time of 1.9867360591888428 s\n",
            "\n",
            "Algorithm: WeightedQuickUnion\n",
            "monte_carlo_full_connection_test: Elapsed time of 1.9474401473999023 s\n",
            "\n",
            "Size 1000 x 1000 at one iteration\n",
            "---------------------------------------\n",
            "Algorithm: PathCompression\n",
            "monte_carlo_full_connection_test: Elapsed time of 8.148958206176758 s\n",
            "\n",
            "Algorithm: WeightedQuickUnion\n",
            "monte_carlo_full_connection_test: Elapsed time of 7.720038175582886 s\n",
            "\n",
            "Size 1500 x 1500 at one iteration\n",
            "---------------------------------------\n",
            "Algorithm: PathCompression\n",
            "monte_carlo_full_connection_test: Elapsed time of 20.476616144180298 s\n",
            "\n",
            "Algorithm: WeightedQuickUnion\n",
            "monte_carlo_full_connection_test: Elapsed time of 19.10306143760681 s\n",
            "\n",
            "Size 2000 x 2000 at one iteration\n",
            "---------------------------------------\n",
            "Algorithm: PathCompression\n",
            "monte_carlo_full_connection_test: Elapsed time of 34.97930645942688 s\n",
            "\n",
            "Algorithm: WeightedQuickUnion\n",
            "monte_carlo_full_connection_test: Elapsed time of 35.054654121398926 s\n",
            "\n",
            "Size 2500 x 2500 at one iteration\n",
            "---------------------------------------\n",
            "Algorithm: PathCompression\n",
            "monte_carlo_full_connection_test: Elapsed time of 57.953510999679565 s\n",
            "\n",
            "Algorithm: WeightedQuickUnion\n",
            "monte_carlo_full_connection_test: Elapsed time of 56.258315324783325 s\n",
            "\n",
            "Size 3000 x 3000 at one iteration\n",
            "---------------------------------------\n",
            "Algorithm: PathCompression\n",
            "monte_carlo_full_connection_test: Elapsed time of 81.77820587158203 s\n",
            "\n",
            "Algorithm: WeightedQuickUnion\n",
            "monte_carlo_full_connection_test: Elapsed time of 84.0618188381195 s\n",
            "\n",
            "Size 3500 x 3500 at one iteration\n",
            "---------------------------------------\n",
            "Algorithm: PathCompression\n",
            "monte_carlo_full_connection_test: Elapsed time of 112.92054653167725 s\n",
            "\n",
            "Algorithm: WeightedQuickUnion\n",
            "monte_carlo_full_connection_test: Elapsed time of 115.46927046775818 s\n",
            "\n",
            "Size 4000 x 4000 at one iteration\n",
            "---------------------------------------\n",
            "Algorithm: PathCompression\n",
            "monte_carlo_full_connection_test: Elapsed time of 148.0653259754181 s\n",
            "\n",
            "Algorithm: WeightedQuickUnion\n",
            "monte_carlo_full_connection_test: Elapsed time of 150.59036707878113 s\n",
            "\n",
            "Size 4500 x 4500 at one iteration\n",
            "---------------------------------------\n",
            "Algorithm: PathCompression\n",
            "monte_carlo_full_connection_test: Elapsed time of 189.83824825286865 s\n",
            "\n",
            "Algorithm: WeightedQuickUnion\n",
            "monte_carlo_full_connection_test: Elapsed time of 192.38099241256714 s\n",
            "\n",
            "Size 5000 x 5000 at one iteration\n",
            "---------------------------------------\n",
            "Algorithm: PathCompression\n",
            "monte_carlo_full_connection_test: Elapsed time of 234.98312187194824 s\n",
            "\n",
            "Algorithm: WeightedQuickUnion\n",
            "monte_carlo_full_connection_test: Elapsed time of 240.64919424057007 s\n",
            "\n"
          ]
        }
      ],
      "source": [
        "pc = 'PathCompression'\n",
        "wqu = 'WeightedQuickUnion'\n",
        "pc_times = []\n",
        "wqu_times = []\n",
        "for size in range(500, 5001, 500):\n",
        "    mc = MonteCarlo(size, 1)\n",
        "    print(f\"Size {size} x {size} at one iteration\")\n",
        "    print(\"---------------------------------------\")\n",
        "    print(f\"Algorithm: {pc}\")\n",
        "    pc_times.append(mc.monte_carlo_full_connection_test(pc, seed_value=3, show_results=False)[1])\n",
        "    print()\n",
        "    print(f\"Algorithm: {wqu}\")\n",
        "    wqu_times.append(mc.monte_carlo_full_connection_test(wqu, seed_value=3, show_results=False)[1])\n",
        "    print()"
      ],
      "id": "SbpmxM9n_9Rf"
    },
    {
      "cell_type": "code",
      "execution_count": 12,
      "metadata": {
        "id": "8Gu6mha1ArMd",
        "colab": {
          "base_uri": "https://localhost:8080/",
          "height": 537
        },
        "outputId": "26c2105a-0139-4719-c72e-873bf8049e15"
      },
      "outputs": [
        {
          "output_type": "display_data",
          "data": {
            "text/plain": [
              "<Figure size 1080x648 with 1 Axes>"
            ],
            "image/png": "[encoded data removed]"
          },
          "metadata": {
            "needs_background": "light"
          }
        }
      ],
      "source": [
        "x = [x for x in range(500, 5001, 500)]\n",
        "y1 = pc_times\n",
        "y2 = wqu_times\n",
        "plt.figure(figsize=(15, 9)) \n",
        "plt.plot(x, y1, label = \"path compression\")\n",
        "plt.plot(x, y2, label = \"weighted quick union\")\n",
        "plt.legend()\n",
        "\n",
        "plt.show()"
      ],
      "id": "8Gu6mha1ArMd"
    },
    {
      "cell_type": "code",
      "execution_count": null,
      "metadata": {
        "id": "1FpFpufTAv0r"
      },
      "outputs": [],
      "source": [
        ""
      ],
      "id": "1FpFpufTAv0r"
    }
  ],
  "metadata": {
    "accelerator": "GPU",
    "colab": {
      "collapsed_sections": [],
      "name": "Percolation_Tests.ipynb",
      "provenance": [],
      "include_colab_link": true
    },
    "gpuClass": "standard",
    "kernelspec": {
      "display_name": "Python 3 (ipykernel)",
      "language": "python",
      "name": "python3"
    },
    "language_info": {
      "codemirror_mode": {
        "name": "ipython",
        "version": 3
      },
      "file_extension": ".py",
      "mimetype": "text/x-python",
      "name": "python",
      "nbconvert_exporter": "python",
      "pygments_lexer": "ipython3",
      "version": "3.8.8"
    }
  },
  "nbformat": 4,
  "nbformat_minor": 5
}